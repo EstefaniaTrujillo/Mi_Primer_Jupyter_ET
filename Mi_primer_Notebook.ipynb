{
 "cells": [
  {
   "cell_type": "markdown",
   "metadata": {},
   "source": [
    "<center>\n",
    "    <img src=\"https://cf-courses-data.s3.us.cloud-object-storage.appdomain.cloud/IBMDeveloperSkillsNetwork-DS0105EN-SkillsNetwork/labs/Module2/images/SN_web_lightmode.png\" width=\"300\" alt=\"cognitiveclass.ai logo\">\n",
    "</center>\n"
   ]
  },
  {
   "cell_type": "markdown",
   "metadata": {},
   "source": [
    "#### Add your code below following the instructions given in the course\n"
   ]
  },
  {
   "cell_type": "code",
   "execution_count": 2,
   "metadata": {},
   "outputs": [
    {
     "name": "stdout",
     "output_type": "stream",
     "text": [
      "¡Hola, Jupyter!\n"
     ]
    }
   ],
   "source": [
    "# Código simple para imprimir un mensaje\n",
    "print(\"¡Hola, Jupyter!\")"
   ]
  },
  {
   "cell_type": "code",
   "execution_count": 3,
   "metadata": {},
   "outputs": [
    {
     "name": "stdout",
     "output_type": "stream",
     "text": [
      "¡soy, Estefania!\n"
     ]
    }
   ],
   "source": [
    "print(\"¡soy, Estefania!\")"
   ]
  },
  {
   "cell_type": "markdown",
   "metadata": {},
   "source": [
    "## Cuaderno Introductorio de Ciencia de Datos Estefanía Trujillo"
   ]
  },
  {
   "cell_type": "markdown",
   "metadata": {},
   "source": [
    "A través de este cuaderno se busca plasmar el aprendizaje teórico de la ciencia de datos. Esta plataforma se denomina Jupyter y lee el lenguaje de Python. "
   ]
  },
  {
   "cell_type": "code",
   "execution_count": 4,
   "metadata": {},
   "outputs": [
    {
     "data": {
      "text/plain": [
       "15"
      ]
     },
     "execution_count": 4,
     "metadata": {},
     "output_type": "execute_result"
    }
   ],
   "source": [
    "# Declaración de variables y suma\n",
    "a = 5\n",
    "b = 10\n",
    "suma = a + b\n",
    "suma"
   ]
  },
  {
   "cell_type": "code",
   "execution_count": 6,
   "metadata": {},
   "outputs": [
    {
     "data": {
      "text/plain": [
       "10"
      ]
     },
     "execution_count": 6,
     "metadata": {},
     "output_type": "execute_result"
    }
   ],
   "source": [
    "# Declaración de variables y suma\n",
    "a = 5\n",
    "suma = a + a\n",
    "suma"
   ]
  },
  {
   "cell_type": "code",
   "execution_count": 7,
   "metadata": {},
   "outputs": [
    {
     "data": {
      "text/plain": [
       "1"
      ]
     },
     "execution_count": 7,
     "metadata": {},
     "output_type": "execute_result"
    }
   ],
   "source": [
    "# Crear una lista y acceder al primer elemento\n",
    "lista = [1, 2, 3, 4, 5]\n",
    "lista[0]  # Acceder al primer elemento"
   ]
  },
  {
   "cell_type": "code",
   "execution_count": 9,
   "metadata": {},
   "outputs": [
    {
     "name": "stdout",
     "output_type": "stream",
     "text": [
      "2\n"
     ]
    }
   ],
   "source": [
    "# Acceder al segundo elemento\n",
    "segundo_elemento = lista[1]\n",
    "print(segundo_elemento)"
   ]
  },
  {
   "cell_type": "code",
   "execution_count": 14,
   "metadata": {},
   "outputs": [
    {
     "data": {
      "text/plain": [
       "['Python', 'JavaScript', 'Java', 'C++', 'R', 'TypeScript', 'SQL', 'Julia']"
      ]
     },
     "execution_count": 14,
     "metadata": {},
     "output_type": "execute_result"
    }
   ],
   "source": [
    "# Crear una lista con los nombres de los lenguajes\n",
    "\n",
    "lenguajes_programacion = [\n",
    "    \"Python\", \n",
    "    \"JavaScript\", \n",
    "    \"Java\", \n",
    "    \"C++\", \n",
    "    \"R\", \n",
    "    \"TypeScript\", \n",
    "    \"SQL\", \n",
    "    \"Julia\"\n",
    "]\n",
    "lenguajes_programacion"
   ]
  },
  {
   "cell_type": "code",
   "execution_count": 19,
   "metadata": {},
   "outputs": [
    {
     "data": {
      "text/plain": [
       "['NumPy',\n",
       " 'Pandas',\n",
       " 'Matplotlib',\n",
       " 'Seaborn',\n",
       " 'Scikit-Learn',\n",
       " 'TensorFlow',\n",
       " 'Keras',\n",
       " 'PyTorch',\n",
       " 'Statsmodels',\n",
       " 'NLTK',\n",
       " 'SpaCy']"
      ]
     },
     "execution_count": 19,
     "metadata": {},
     "output_type": "execute_result"
    }
   ],
   "source": [
    "## Bibliotecas de Ciencia de Datos en Python\n",
    "\n",
    "Biblioteca_Python = [\n",
    "\"NumPy\",\n",
    "\"Pandas\",\n",
    "\"Matplotlib\",\n",
    "\"Seaborn\",\n",
    "\"Scikit-Learn\",\n",
    "\"TensorFlow\",\n",
    "\"Keras\",\n",
    "\"PyTorch\",\n",
    "\"Statsmodels\",\n",
    "\"NLTK\",\n",
    "\"SpaCy\"\n",
    "]\n",
    "Biblioteca_Python"
   ]
  },
  {
   "cell_type": "markdown",
   "metadata": {},
   "source": [
    "## Herramientas de Ciencia de Datos\n",
    "\n",
    "| Herramienta        | Propósito Principal                                |\n",
    "|--------------------|----------------------------------------------------|\n",
    "| Jupyter Notebook   | Desarrollo de código y documentación interactiva   |\n",
    "| RStudio            | Entorno de desarrollo para R                       |\n",
    "| Apache Hadoop      | Procesamiento y almacenamiento de grandes datos    |\n",
    "| Apache Spark       | Procesamiento de datos en tiempo real y por lotes  |\n",
    "| Tableau            | Visualización y análisis de datos                  |\n",
    "| Power BI           | Análisis y visualización de datos empresariales    |\n",
    "| TensorFlow         | Desarrollo de modelos de aprendizaje profundo      |\n",
    "| PyTorch            | Desarrollo de modelos de aprendizaje profundo      |\n",
    "| KNIME              | Plataforma de integración y análisis de datos      |\n",
    "| Google Colab       | Entorno de Jupyter basado en la nube               |\n"
   ]
  },
  {
   "cell_type": "markdown",
   "metadata": {},
   "source": [
    "# Suma\n",
    "resultado_suma = 10 + 5  # Resultado: 15\n",
    "\n",
    "# Resta\n",
    "resultado_resta = 20 - 4  # Resultado: 16\n",
    "\n",
    "# Multiplicación\n",
    "resultado_multiplicacion = 6 * 7  # Resultado: 42\n",
    "\n",
    "# División\n",
    "resultado_division = 15 / 3  # Resultado: 5\n",
    "\n",
    "# División entera (sin decimales)\n",
    "resultado_division_entera = 17 // 3  # Resultado: 5\n",
    "\n",
    "# Módulo (residuo de una división)\n",
    "resultado_modulo = 17 % 3  # Resultado: 2\n",
    "\n",
    "# Potencia (exponenciación)\n",
    "resultado_potencia = 2 ** 3  # Resultado: 8"
   ]
  },
  {
   "cell_type": "code",
   "execution_count": 23,
   "metadata": {},
   "outputs": [
    {
     "name": "stdout",
     "output_type": "stream",
     "text": [
      "La suma es: 12\n",
      "La multiplicación es: 35\n"
     ]
    }
   ],
   "source": [
    "# Definir los números\n",
    "n1 = 7\n",
    "n2 = 5\n",
    "\n",
    "# Sumar los números\n",
    "suma = n1 + n2\n",
    "\n",
    "# Multiplicar los números\n",
    "multiplicacion = n1 * n2\n",
    "\n",
    "# Mostrar los resultados\n",
    "print(\"La suma es:\", suma)\n",
    "print(\"La multiplicación es:\", multiplicacion)"
   ]
  },
  {
   "cell_type": "code",
   "execution_count": 28,
   "metadata": {},
   "outputs": [
    {
     "name": "stdout",
     "output_type": "stream",
     "text": [
      "Ingrese minutos\n"
     ]
    },
    {
     "name": "stdin",
     "output_type": "stream",
     "text": [
      " 120\n"
     ]
    },
    {
     "data": {
      "text/plain": [
       "2.0"
      ]
     },
     "execution_count": 28,
     "metadata": {},
     "output_type": "execute_result"
    }
   ],
   "source": [
    "print(\"Ingrese minutos\")\n",
    "minutos = int(input())\n",
    "horas = minutos/60\n",
    "horas"
   ]
  },
  {
   "cell_type": "code",
   "execution_count": 29,
   "metadata": {},
   "outputs": [
    {
     "name": "stdout",
     "output_type": "stream",
     "text": [
      "- Crear un cuaderno Jupyter con markdown y celdas de código\n",
      "- Enumere ejemplos de lenguajes, bibliotecas y herramientas utilizados en la Ciencia de Datos\n",
      "- Comparta su Jupyter Notebook públicamente en GitHub\n",
      "- Evalúe los cuadernos presentados por sus compañeros utilizando la rúbrica proporcionada\n",
      "- Demostrar competencia en el conocimiento del conjunto de herramientas de Ciencia de Datos\n"
     ]
    }
   ],
   "source": [
    "# Lista de objetivos\n",
    "objetivos = [\n",
    "    \"Crear un cuaderno Jupyter con markdown y celdas de código\",\n",
    "    \"Enumere ejemplos de lenguajes, bibliotecas y herramientas utilizados en la Ciencia de Datos\",\n",
    "    \"Comparta su Jupyter Notebook públicamente en GitHub\",\n",
    "    \"Evalúe los cuadernos presentados por sus compañeros utilizando la rúbrica proporcionada\",\n",
    "    \"Demostrar competencia en el conocimiento del conjunto de herramientas de Ciencia de Datos\"\n",
    "]\n",
    "# Mostrar la lista de objetivos\n",
    "for objetivo in objetivos:\n",
    "    print(\"- \" + objetivo)\n"
   ]
  },
  {
   "cell_type": "markdown",
   "metadata": {},
   "source": [
    "Autora: Estefanía Trujillo Maldonado"
   ]
  },
  {
   "cell_type": "code",
   "execution_count": null,
   "metadata": {},
   "outputs": [],
   "source": []
  }
 ],
 "metadata": {
  "kernelspec": {
   "display_name": "Python 3 (ipykernel)",
   "language": "python",
   "name": "python3"
  },
  "language_info": {
   "codemirror_mode": {
    "name": "ipython",
    "version": 3
   },
   "file_extension": ".py",
   "mimetype": "text/x-python",
   "name": "python",
   "nbconvert_exporter": "python",
   "pygments_lexer": "ipython3",
   "version": "3.11.9"
  }
 },
 "nbformat": 4,
 "nbformat_minor": 4
}
